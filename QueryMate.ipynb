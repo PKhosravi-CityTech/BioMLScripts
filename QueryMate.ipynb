{
  "nbformat": 4,
  "nbformat_minor": 0,
  "metadata": {
    "colab": {
      "provenance": [],
      "gpuType": "T4"
    },
    "kernelspec": {
      "name": "python3",
      "display_name": "Python 3"
    },
    "language_info": {
      "name": "python"
    },
    "accelerator": "GPU"
  },
  "cells": [
    {
      "cell_type": "markdown",
      "source": [
        "<img src=\"https://github.com/PKhosravi-CityTech/LightCnnRad/raw/main/Images/BioMindLogo.png\" alt=\"BioMind AI Lab Logo\" width=\"150\" height=\"150\" align=\"left\" style=\"margin-bottom: 40px;\"> **Repository Developed by Pegah Khosravi, Principal Investigator of the BioMind AI Lab**\n",
        "\n",
        "Welcome to this repository! This repository is a result of collaborative efforts from our dedicated team at the lab. We are committed to advancing the field of biomedical AI and pushing the boundaries of medical data analysis. Your interest and contributions to our work are greatly appreciated. For more information about our lab and ongoing projects, please visit the [BioMind AI Lab website](https://sites.google.com/view/biomind-ai-lab). Thank you for your interest and support!!"
      ],
      "metadata": {
        "id": "_v4s_w2Tyu5j"
      }
    },
    {
      "cell_type": "markdown",
      "source": [
        "#QueryMate: A Custom LLM Powered by LlamaCpp\n",
        "\n",
        "Welcome to the repository of QueryMate, an interactive language model designed to provide intelligent responses to user queries. Built using the LlamaCpp framework, QueryMate leverages the powerful [Synthia-7B model](https://huggingface.co/TheBloke/SynthIA-7B-v2.0-16k-GGUF), finely tuned to handle a wide range of tasks. With a context window of 4096 tokens and optimized with 32 GPU layers, this model ensures efficient and accurate performance. The adjustable parameters, such as temperature and top_p, allow users to control the randomness and diversity of the model's output, making it versatile for various applications. The implementation includes a user-friendly interface with color-coded inputs and responses for enhanced readability. Explore the repository to learn more about the setup, usage, and customization options for QueryMate."
      ],
      "metadata": {
        "id": "iRk_FUeebSeC"
      }
    },
    {
      "cell_type": "markdown",
      "source": [
        "<img src=\"https://github.com/PKhosravi-CityTech/BioMLScripts/raw/main/Images/QueryMate.png\" alt=\"QueryMate\" width=\"300\" height=\"300\" align=\"left\" style=\"margin-bottom: 40px;\">"
      ],
      "metadata": {
        "id": "xGVlMjsS7zOB"
      }
    },
    {
      "cell_type": "markdown",
      "source": [
        "**Natural Language Processing (NLP)** is a critical field within artificial intelligence focused on the interaction between computers and human language. Large Language Models (LLMs) represent a significant advancement in NLP, capable of understanding and generating human-like text based on vast amounts of data. Among the most renowned LLMs is ChatGPT, developed by OpenAI, which has demonstrated remarkable abilities in tasks such as conversation, text completion, and content generation. ChatGPT exemplifies how LLMs can be applied to a wide range of applications, from customer service to creative writing, making it an invaluable tool for both research and practical use. Introducing students to LLMs like ChatGPT provides them with a comprehensive understanding of modern AI technologies and prepares them for future innovations in the field."
      ],
      "metadata": {
        "id": "2zp-Bvv58vnS"
      }
    },
    {
      "cell_type": "code",
      "source": [
        "!pip install langchain-community\n",
        "!pip install llama-cpp-python"
      ],
      "metadata": {
        "id": "JdkNvxJhND_x",
        "collapsed": true,
        "colab": {
          "base_uri": "https://localhost:8080/"
        },
        "outputId": "8ba381ad-af01-4b22-a331-f4c273a3850b"
      },
      "execution_count": null,
      "outputs": [
        {
          "output_type": "stream",
          "name": "stdout",
          "text": [
            "Collecting langchain-community\n",
            "  Downloading langchain_community-0.2.3-py3-none-any.whl (2.2 MB)\n",
            "\u001b[2K     \u001b[90m━━━━━━━━━━━━━━━━━━━━━━━━━━━━━━━━━━━━━━━━\u001b[0m \u001b[32m2.2/2.2 MB\u001b[0m \u001b[31m12.2 MB/s\u001b[0m eta \u001b[36m0:00:00\u001b[0m\n",
            "\u001b[?25hRequirement already satisfied: PyYAML>=5.3 in /usr/local/lib/python3.10/dist-packages (from langchain-community) (6.0.1)\n",
            "Requirement already satisfied: SQLAlchemy<3,>=1.4 in /usr/local/lib/python3.10/dist-packages (from langchain-community) (2.0.30)\n",
            "Requirement already satisfied: aiohttp<4.0.0,>=3.8.3 in /usr/local/lib/python3.10/dist-packages (from langchain-community) (3.9.5)\n",
            "Collecting dataclasses-json<0.7,>=0.5.7 (from langchain-community)\n",
            "  Downloading dataclasses_json-0.6.6-py3-none-any.whl (28 kB)\n",
            "Collecting langchain<0.3.0,>=0.2.0 (from langchain-community)\n",
            "  Downloading langchain-0.2.2-py3-none-any.whl (973 kB)\n",
            "\u001b[2K     \u001b[90m━━━━━━━━━━━━━━━━━━━━━━━━━━━━━━━━━━━━━━━━\u001b[0m \u001b[32m973.6/973.6 kB\u001b[0m \u001b[31m16.9 MB/s\u001b[0m eta \u001b[36m0:00:00\u001b[0m\n",
            "\u001b[?25hCollecting langchain-core<0.3.0,>=0.2.0 (from langchain-community)\n",
            "  Downloading langchain_core-0.2.4-py3-none-any.whl (310 kB)\n",
            "\u001b[2K     \u001b[90m━━━━━━━━━━━━━━━━━━━━━━━━━━━━━━━━━━━━━━━━\u001b[0m \u001b[32m310.4/310.4 kB\u001b[0m \u001b[31m17.7 MB/s\u001b[0m eta \u001b[36m0:00:00\u001b[0m\n",
            "\u001b[?25hCollecting langsmith<0.2.0,>=0.1.0 (from langchain-community)\n",
            "  Downloading langsmith-0.1.73-py3-none-any.whl (124 kB)\n",
            "\u001b[2K     \u001b[90m━━━━━━━━━━━━━━━━━━━━━━━━━━━━━━━━━━━━━━━━\u001b[0m \u001b[32m124.7/124.7 kB\u001b[0m \u001b[31m7.3 MB/s\u001b[0m eta \u001b[36m0:00:00\u001b[0m\n",
            "\u001b[?25hRequirement already satisfied: numpy<2,>=1 in /usr/local/lib/python3.10/dist-packages (from langchain-community) (1.25.2)\n",
            "Requirement already satisfied: requests<3,>=2 in /usr/local/lib/python3.10/dist-packages (from langchain-community) (2.31.0)\n",
            "Requirement already satisfied: tenacity<9.0.0,>=8.1.0 in /usr/local/lib/python3.10/dist-packages (from langchain-community) (8.3.0)\n",
            "Requirement already satisfied: aiosignal>=1.1.2 in /usr/local/lib/python3.10/dist-packages (from aiohttp<4.0.0,>=3.8.3->langchain-community) (1.3.1)\n",
            "Requirement already satisfied: attrs>=17.3.0 in /usr/local/lib/python3.10/dist-packages (from aiohttp<4.0.0,>=3.8.3->langchain-community) (23.2.0)\n",
            "Requirement already satisfied: frozenlist>=1.1.1 in /usr/local/lib/python3.10/dist-packages (from aiohttp<4.0.0,>=3.8.3->langchain-community) (1.4.1)\n",
            "Requirement already satisfied: multidict<7.0,>=4.5 in /usr/local/lib/python3.10/dist-packages (from aiohttp<4.0.0,>=3.8.3->langchain-community) (6.0.5)\n",
            "Requirement already satisfied: yarl<2.0,>=1.0 in /usr/local/lib/python3.10/dist-packages (from aiohttp<4.0.0,>=3.8.3->langchain-community) (1.9.4)\n",
            "Requirement already satisfied: async-timeout<5.0,>=4.0 in /usr/local/lib/python3.10/dist-packages (from aiohttp<4.0.0,>=3.8.3->langchain-community) (4.0.3)\n",
            "Collecting marshmallow<4.0.0,>=3.18.0 (from dataclasses-json<0.7,>=0.5.7->langchain-community)\n",
            "  Downloading marshmallow-3.21.2-py3-none-any.whl (49 kB)\n",
            "\u001b[2K     \u001b[90m━━━━━━━━━━━━━━━━━━━━━━━━━━━━━━━━━━━━━━━━\u001b[0m \u001b[32m49.3/49.3 kB\u001b[0m \u001b[31m2.7 MB/s\u001b[0m eta \u001b[36m0:00:00\u001b[0m\n",
            "\u001b[?25hCollecting typing-inspect<1,>=0.4.0 (from dataclasses-json<0.7,>=0.5.7->langchain-community)\n",
            "  Downloading typing_inspect-0.9.0-py3-none-any.whl (8.8 kB)\n",
            "Collecting langchain-text-splitters<0.3.0,>=0.2.0 (from langchain<0.3.0,>=0.2.0->langchain-community)\n",
            "  Downloading langchain_text_splitters-0.2.1-py3-none-any.whl (23 kB)\n",
            "Requirement already satisfied: pydantic<3,>=1 in /usr/local/lib/python3.10/dist-packages (from langchain<0.3.0,>=0.2.0->langchain-community) (2.7.3)\n",
            "Collecting jsonpatch<2.0,>=1.33 (from langchain-core<0.3.0,>=0.2.0->langchain-community)\n",
            "  Downloading jsonpatch-1.33-py2.py3-none-any.whl (12 kB)\n",
            "Collecting packaging<24.0,>=23.2 (from langchain-core<0.3.0,>=0.2.0->langchain-community)\n",
            "  Downloading packaging-23.2-py3-none-any.whl (53 kB)\n",
            "\u001b[2K     \u001b[90m━━━━━━━━━━━━━━━━━━━━━━━━━━━━━━━━━━━━━━━━\u001b[0m \u001b[32m53.0/53.0 kB\u001b[0m \u001b[31m3.5 MB/s\u001b[0m eta \u001b[36m0:00:00\u001b[0m\n",
            "\u001b[?25hCollecting orjson<4.0.0,>=3.9.14 (from langsmith<0.2.0,>=0.1.0->langchain-community)\n",
            "  Downloading orjson-3.10.3-cp310-cp310-manylinux_2_17_x86_64.manylinux2014_x86_64.whl (142 kB)\n",
            "\u001b[2K     \u001b[90m━━━━━━━━━━━━━━━━━━━━━━━━━━━━━━━━━━━━━━━━\u001b[0m \u001b[32m142.5/142.5 kB\u001b[0m \u001b[31m3.7 MB/s\u001b[0m eta \u001b[36m0:00:00\u001b[0m\n",
            "\u001b[?25hRequirement already satisfied: charset-normalizer<4,>=2 in /usr/local/lib/python3.10/dist-packages (from requests<3,>=2->langchain-community) (3.3.2)\n",
            "Requirement already satisfied: idna<4,>=2.5 in /usr/local/lib/python3.10/dist-packages (from requests<3,>=2->langchain-community) (3.7)\n",
            "Requirement already satisfied: urllib3<3,>=1.21.1 in /usr/local/lib/python3.10/dist-packages (from requests<3,>=2->langchain-community) (2.0.7)\n",
            "Requirement already satisfied: certifi>=2017.4.17 in /usr/local/lib/python3.10/dist-packages (from requests<3,>=2->langchain-community) (2024.6.2)\n",
            "Requirement already satisfied: typing-extensions>=4.6.0 in /usr/local/lib/python3.10/dist-packages (from SQLAlchemy<3,>=1.4->langchain-community) (4.12.1)\n",
            "Requirement already satisfied: greenlet!=0.4.17 in /usr/local/lib/python3.10/dist-packages (from SQLAlchemy<3,>=1.4->langchain-community) (3.0.3)\n",
            "Collecting jsonpointer>=1.9 (from jsonpatch<2.0,>=1.33->langchain-core<0.3.0,>=0.2.0->langchain-community)\n",
            "  Downloading jsonpointer-2.4-py2.py3-none-any.whl (7.8 kB)\n",
            "Requirement already satisfied: annotated-types>=0.4.0 in /usr/local/lib/python3.10/dist-packages (from pydantic<3,>=1->langchain<0.3.0,>=0.2.0->langchain-community) (0.7.0)\n",
            "Requirement already satisfied: pydantic-core==2.18.4 in /usr/local/lib/python3.10/dist-packages (from pydantic<3,>=1->langchain<0.3.0,>=0.2.0->langchain-community) (2.18.4)\n",
            "Collecting mypy-extensions>=0.3.0 (from typing-inspect<1,>=0.4.0->dataclasses-json<0.7,>=0.5.7->langchain-community)\n",
            "  Downloading mypy_extensions-1.0.0-py3-none-any.whl (4.7 kB)\n",
            "Installing collected packages: packaging, orjson, mypy-extensions, jsonpointer, typing-inspect, marshmallow, jsonpatch, langsmith, dataclasses-json, langchain-core, langchain-text-splitters, langchain, langchain-community\n",
            "  Attempting uninstall: packaging\n",
            "    Found existing installation: packaging 24.0\n",
            "    Uninstalling packaging-24.0:\n",
            "      Successfully uninstalled packaging-24.0\n",
            "Successfully installed dataclasses-json-0.6.6 jsonpatch-1.33 jsonpointer-2.4 langchain-0.2.2 langchain-community-0.2.3 langchain-core-0.2.4 langchain-text-splitters-0.2.1 langsmith-0.1.73 marshmallow-3.21.2 mypy-extensions-1.0.0 orjson-3.10.3 packaging-23.2 typing-inspect-0.9.0\n",
            "Collecting llama-cpp-python\n",
            "  Downloading llama_cpp_python-0.2.77.tar.gz (50.2 MB)\n",
            "\u001b[2K     \u001b[90m━━━━━━━━━━━━━━━━━━━━━━━━━━━━━━━━━━━━━━━━\u001b[0m \u001b[32m50.2/50.2 MB\u001b[0m \u001b[31m13.0 MB/s\u001b[0m eta \u001b[36m0:00:00\u001b[0m\n",
            "\u001b[?25h  Installing build dependencies ... \u001b[?25l\u001b[?25hdone\n",
            "  Getting requirements to build wheel ... \u001b[?25l\u001b[?25hdone\n",
            "  Installing backend dependencies ... \u001b[?25l\u001b[?25hdone\n",
            "  Preparing metadata (pyproject.toml) ... \u001b[?25l\u001b[?25hdone\n",
            "Requirement already satisfied: typing-extensions>=4.5.0 in /usr/local/lib/python3.10/dist-packages (from llama-cpp-python) (4.12.1)\n",
            "Requirement already satisfied: numpy>=1.20.0 in /usr/local/lib/python3.10/dist-packages (from llama-cpp-python) (1.25.2)\n",
            "Collecting diskcache>=5.6.1 (from llama-cpp-python)\n",
            "  Downloading diskcache-5.6.3-py3-none-any.whl (45 kB)\n",
            "\u001b[2K     \u001b[90m━━━━━━━━━━━━━━━━━━━━━━━━━━━━━━━━━━━━━━━━\u001b[0m \u001b[32m45.5/45.5 kB\u001b[0m \u001b[31m6.6 MB/s\u001b[0m eta \u001b[36m0:00:00\u001b[0m\n",
            "\u001b[?25hRequirement already satisfied: jinja2>=2.11.3 in /usr/local/lib/python3.10/dist-packages (from llama-cpp-python) (3.1.4)\n",
            "Requirement already satisfied: MarkupSafe>=2.0 in /usr/local/lib/python3.10/dist-packages (from jinja2>=2.11.3->llama-cpp-python) (2.1.5)\n",
            "Building wheels for collected packages: llama-cpp-python\n",
            "  Building wheel for llama-cpp-python (pyproject.toml) ... \u001b[?25l\u001b[?25hdone\n",
            "  Created wheel for llama-cpp-python: filename=llama_cpp_python-0.2.77-cp310-cp310-linux_x86_64.whl size=3726640 sha256=c3f884a0a54d6da39f37e91b4b982017639a7762d294a13725ad3abc0b3ab9d5\n",
            "  Stored in directory: /root/.cache/pip/wheels/ed/55/a1/6d6c2ef6fed3ef054b4170d8bcd05a09e6dc971db7fad955ff\n",
            "Successfully built llama-cpp-python\n",
            "Installing collected packages: diskcache, llama-cpp-python\n",
            "Successfully installed diskcache-5.6.3 llama-cpp-python-0.2.77\n"
          ]
        }
      ]
    },
    {
      "cell_type": "code",
      "source": [
        "from google.colab import drive\n",
        "drive.mount('/content/gdrive')"
      ],
      "metadata": {
        "id": "_zlyfvGaW7vq",
        "colab": {
          "base_uri": "https://localhost:8080/"
        },
        "outputId": "7433b03a-5dc9-43b5-a144-107c3cf8b0be"
      },
      "execution_count": null,
      "outputs": [
        {
          "output_type": "stream",
          "name": "stdout",
          "text": [
            "Mounted at /content/gdrive\n"
          ]
        }
      ]
    },
    {
      "cell_type": "code",
      "source": [
        "import sys  # Provides access to system-specific parameters and functions\n",
        "import textwrap  # Provides functions to format text\n",
        "from langchain.llms import LlamaCpp  # Import the LlamaCpp model from the langchain library\n",
        "\n",
        "verbose = False  # Set verbose to False to reduce output logging\n",
        "\n",
        "# Initialize the LlamaCpp model and name it \"QueryMate\"\n",
        "querymate = LlamaCpp(\n",
        "    model_path=\"/content/gdrive/MyDrive/ColabNotebooks_PegahKhosravi/synthia-7b-v2.0-16k.Q3_K_S.gguf\",  # Path to the model file\n",
        "    n_ctx=4096,  # Set the context window size\n",
        "    n_gpu_layers=32,  # Set the number of GPU layers to use\n",
        "    n_batch=2048,  # Set the batch size\n",
        "    f16_kv=True,  # Enable 16-bit floating point precision for key-value memory\n",
        "    verbose=verbose,  # Use the verbose setting defined earlier\n",
        ")\n",
        "\n",
        "# Initialize parameters for controlling the model's response\n",
        "temperature = 0.2  # Controls the randomness of the model's output (lower value = less random)\n",
        "top_p = 0.1  # Controls the diversity of the output by sampling from the top p probability distribution (lower value = more conservative)\n",
        "\n",
        "# ANSI color codes for colored terminal output\n",
        "class Colors:\n",
        "    QUESTION = '\\033[94m'  # Blue\n",
        "    RESPONSE = '\\033[38;2;0;100;0m'  # Dark Green (RGB)\n",
        "    FEEDBACK = '\\033[38;2;255;165;0m'  # Orange (RGB)\n",
        "    RESET = '\\033[0m'  # Reset color to default\n",
        "\n",
        "def get_user_input(prompt):\n",
        "    \"\"\"Get input from the user.\"\"\"\n",
        "    try:\n",
        "        return input(prompt)  # Prompt the user for input\n",
        "    except EOFError:\n",
        "        return \"stop\"  # Return \"stop\" if an EOFError occurs (e.g., end of input)\n",
        "\n",
        "def adjust_parameters(feedback, temperature, top_p):\n",
        "    \"\"\"Adjust parameters based on user feedback.\"\"\"\n",
        "    if feedback == \"too random\":\n",
        "        temperature = max(0.1, temperature - 0.05)  # Decrease temperature to make output less random\n",
        "    elif feedback == \"too conservative\":\n",
        "        temperature = min(1.0, temperature + 0.05)  # Increase temperature to make output more random\n",
        "    return temperature, top_p  # Return the adjusted parameters\n",
        "\n",
        "def print_feedback_emoji(feedback):\n",
        "    \"\"\"Print a humorous emoji based on the feedback.\"\"\"\n",
        "    if feedback == \"good\":\n",
        "        print(\"😊 Great! Glad you liked it!\")\n",
        "    elif feedback == \"too random\":\n",
        "        print(\"🤔 Hmm, I'll try to be more focused.\")\n",
        "    elif feedback == \"too conservative\":\n",
        "        print(\"😴 Too boring? Let's spice it up!\")\n",
        "\n",
        "def main():\n",
        "    global temperature, top_p  # Use the global temperature and top_p variables\n",
        "\n",
        "    while True:\n",
        "        question = get_user_input(f\"{Colors.QUESTION}Ask me a question or type 'help' for options: {Colors.RESET}\")  # Prompt the user for a question (e.g. What does deep learning mean?)\n",
        "\n",
        "        if question == \"stop\":\n",
        "            print(\"Exiting the program.\")\n",
        "            break  # Exit the loop and stop the program\n",
        "        elif question == \"help\":\n",
        "            print(\"Options:\\n- Type 'stop' to exit\\n- Type 'feedback' to adjust response style\")\n",
        "            continue  # Continue to the next iteration of the loop\n",
        "        elif question == \"feedback\":\n",
        "            feedback = get_user_input(f\"{Colors.FEEDBACK}Enter feedback ('too random' or 'too conservative'): {Colors.RESET}\")\n",
        "            temperature, top_p = adjust_parameters(feedback, temperature, top_p)  # Adjust parameters based on feedback\n",
        "            print(f\"Parameters adjusted: temperature={temperature}, top_p={top_p}\")\n",
        "            print_feedback_emoji(feedback)\n",
        "            continue  # Continue to the next iteration of the loop\n",
        "\n",
        "        try:\n",
        "            print(\"Invoking model...\")\n",
        "            output = querymate.invoke(\n",
        "                question,  # The user's question\n",
        "                max_tokens=2048,  # Limit the maximum number of tokens in the output for faster response\n",
        "                temperature=temperature,  # Use the current temperature value\n",
        "                top_p=top_p  # Use the current top_p value\n",
        "            )\n",
        "            print(\"Model invoked successfully.\")\n",
        "            # Wrap the text output to 80 characters width for better readability\n",
        "            wrapped_output = textwrap.fill(output, width=80)\n",
        "            print(f\"\\n{Colors.RESPONSE}{wrapped_output}{Colors.RESET}\")\n",
        "\n",
        "            # Collect user feedback on the response\n",
        "            feedback = get_user_input(f\"{Colors.FEEDBACK}Rate the response ('good', 'too random', 'too conservative'): {Colors.RESET}\")\n",
        "            temperature, top_p = adjust_parameters(feedback, temperature, top_p)  # Adjust parameters based on feedback\n",
        "            print_feedback_emoji(feedback)\n",
        "\n",
        "            # Exit the program right after feedback to run faster\n",
        "            break  # Use break instead of sys.exit to avoid raising SystemExit\n",
        "        except Exception as e:\n",
        "            print(f\"An error occurred: {e}\")  # Print any errors that occur\n",
        "\n",
        "if __name__ == \"__main__\":\n",
        "    main()  # Run the main function directly"
      ],
      "metadata": {
        "colab": {
          "base_uri": "https://localhost:8080/"
        },
        "id": "_Fdmj8SwsnSe",
        "outputId": "f66779e7-7c37-4352-ec05-e1b62ef80c35"
      },
      "execution_count": null,
      "outputs": [
        {
          "output_type": "stream",
          "name": "stdout",
          "text": [
            "\u001b[94mAsk me a question or type 'help' for options: \u001b[0mWhat does deep learning mean?\n",
            "Invoking model...\n",
            "Model invoked successfully.\n",
            "\n",
            "\u001b[38;2;0;100;0m  Deep learning is a subset of machine learning in artificial intelligence that\n",
            "has networks capable of learning representations or features of data with\n",
            "multiple levels of abstraction. Deep learning algorithms are based on a set of\n",
            "layers, such as an input layer, hidden layers and an output layer. The hidden\n",
            "layers can further be broken down into several sub-layers.  Deep learning is\n",
            "used in various applications, including image recognition, natural language\n",
            "processing (NLP), speech recognition, and more. It has been successful in these\n",
            "areas because it can learn complex patterns from large amounts of data.  In deep\n",
            "learning, the network learns by adjusting the weights of its connections based\n",
            "on the error between the predicted output and the actual output. This process is\n",
            "known as backpropagation. The deeper the layers are, the more abstract the\n",
            "features that can be learned.  Deep learning has been successful in many areas\n",
            "because it can learn complex patterns from large amounts of data. It has been\n",
            "used to recognize objects in images, understand natural language, and even\n",
            "generate new images or text. Deep learning is a powerful tool for solving\n",
            "complex problems, but it requires a lot of computational power and a large\n",
            "amount of labeled data to train the network effectively.\u001b[0m\n",
            "\u001b[38;2;255;165;0mRate the response ('good', 'too random', 'too conservative'): \u001b[0mgood\n",
            "😊 Great! Glad you liked it!\n"
          ]
        }
      ]
    }
  ]
}